{
 "cells": [
  {
   "cell_type": "markdown",
   "metadata": {},
   "source": [
    "# FOR (A+B)^2 = A^2 + B^2 + 2AB"
   ]
  },
  {
   "cell_type": "code",
   "execution_count": 13,
   "metadata": {},
   "outputs": [
    {
     "name": "stdout",
     "output_type": "stream",
     "text": [
      "3\n",
      "6\n",
      "Tensor(\"A_B_square/a_sq_plus_b_sq_plus_2ab/Add:0\", shape=(), dtype=int32)\n",
      "81\n"
     ]
    }
   ],
   "source": [
    "import tensorflow as tf\n",
    "tf.reset_default_graph()\n",
    "m=int(input())\n",
    "n=int(input())\n",
    "with tf.name_scope(\"A_B_square\"):\n",
    "    with tf.name_scope(\"A_Square\"):\n",
    "        a = tf.multiply(m, m, name=\"a_mul_a\")\n",
    "    with tf.name_scope(\"B_Square\"):\n",
    "        b = tf.multiply(n, n, name=\"b_mul_b\")\n",
    "    with tf.name_scope(\"2AB\"):\n",
    "        c= tf.multiply(m, n, name=\"a_mul_b\")\n",
    "        d = tf.multiply(2, c, name=\"2_mul_ab\")\n",
    "    with tf.name_scope(\"a_sq_plus_b_sq\"):\n",
    "        g = tf.add(a, b)\n",
    "    with tf.name_scope(\"a_sq_plus_b_sq_plus_2ab\"):\n",
    "        h = tf.add(g, d)\n",
    "print(h)\n",
    "\n",
    "with tf.Session() as sess:\n",
    "    writer = tf.summary.FileWriter(\"/tmp/tboard/output125\", sess.graph)\n",
    "    print(sess.run(h))\n",
    "    writer.close()"
   ]
  },
  {
   "cell_type": "markdown",
   "metadata": {},
   "source": [
    "# FOR (A-B)^3 = A^3 - B^3 + 3AB (A-B)"
   ]
  },
  {
   "cell_type": "code",
   "execution_count": 12,
   "metadata": {},
   "outputs": [
    {
     "name": "stdout",
     "output_type": "stream",
     "text": [
      "3\n",
      "6\n",
      "-27\n"
     ]
    }
   ],
   "source": [
    "import tensorflow as tf\n",
    "tf.reset_default_graph()\n",
    "m=int(input())\n",
    "n=int(input())\n",
    "with tf.name_scope(\"A_min_B_cube\"):\n",
    "    with tf.name_scope(\"A_cube\"):\n",
    "        x = tf.multiply(m, m, name=\"a_mul_a\")\n",
    "        a = tf.multiply(m, x, name=\"a_mul_a_mul_a\")\n",
    "    with tf.name_scope(\"B_cube\"):\n",
    "        y = tf.multiply(n, n, name=\"b_mul_b\")\n",
    "        b = tf.multiply(n, y, name=\"b_mul_b_mul_b\")\n",
    "    with tf.name_scope(\"3AB_mul_A_min_B\"):\n",
    "        with tf.name_scope(\"3AB\"):\n",
    "            c= tf.multiply(m, n, name=\"a_mul_b\")\n",
    "            d = tf.multiply(3, c, name=\"3_mul_ab\")\n",
    "        with tf.name_scope(\"A_min_B\"):\n",
    "            e = tf.subtract(m, n, name=\"A_min_B\")\n",
    "        f = tf.multiply(d, e, name=\"3_mul_ab\")\n",
    "    with tf.name_scope(\"a_cu_min_b_cu\"):\n",
    "        g = tf.subtract(a, b, name=\"A_3_min_B_3\")\n",
    "    with tf.name_scope(\"a_3_min_b_3_min_3ab_a_min_b\"):\n",
    "        h = tf.subtract(g, f)\n",
    "\n",
    "\n",
    "with tf.Session() as sess:\n",
    "    writer = tf.summary.FileWriter(\"/tmp/tboard/output15\", sess.graph)\n",
    "    print(sess.run(h))\n",
    "    writer.close()"
   ]
  },
  {
   "cell_type": "code",
   "execution_count": null,
   "metadata": {
    "collapsed": true
   },
   "outputs": [],
   "source": []
  }
 ],
 "metadata": {
  "kernelspec": {
   "display_name": "Python 3",
   "language": "python",
   "name": "python3"
  },
  "language_info": {
   "codemirror_mode": {
    "name": "ipython",
    "version": 3
   },
   "file_extension": ".py",
   "mimetype": "text/x-python",
   "name": "python",
   "nbconvert_exporter": "python",
   "pygments_lexer": "ipython3",
   "version": "3.5.3"
  }
 },
 "nbformat": 4,
 "nbformat_minor": 2
}
